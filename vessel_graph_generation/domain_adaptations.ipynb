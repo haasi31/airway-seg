{
 "cells": [
  {
   "attachments": {},
   "cell_type": "markdown",
   "metadata": {
    "collapsed": false
   },
   "source": [
    "## first simple domain adaptation (noise + lobe segments)"
   ]
  },
  {
   "cell_type": "code",
   "execution_count": 1,
   "metadata": {
    "collapsed": true
   },
   "outputs": [],
   "source": [
    "import numpy as np\n",
    "import nibabel as nib\n",
    "from scipy.ndimage import gaussian_filter\n",
    "import glob\n",
    "import shutil\n",
    "import os\n",
    "from tqdm import tqdm\n",
    "import yaml\n",
    "from multiprocessing import Pool"
   ]
  },
  {
   "cell_type": "code",
   "execution_count": 2,
   "metadata": {
    "collapsed": false
   },
   "outputs": [],
   "source": [
    "def add_noise(volume, mean, std):\n",
    "    noise = np.random.normal(mean, std, volume.shape)\n",
    "    noise = noise.reshape(volume.shape)\n",
    "    \n",
    "    num_salt = 512*512*500 * 0.0001\n",
    "    coords = [np.random.randint(5, i - 5, int(num_salt)) for i in volume.shape]\n",
    "    for x, y, z in zip(coords[0],coords[1],coords[2]):\n",
    "        noise[x-1:x+2, y-1:y+2, z-1:z+2] += -0.8\n",
    "        \n",
    "    gauss = gaussian_filter(noise, sigma=1)\n",
    "    noisy = volume + gauss\n",
    "    \n",
    "    return noisy, gauss"
   ]
  },
  {
   "cell_type": "code",
   "execution_count": 3,
   "metadata": {
    "collapsed": false
   },
   "outputs": [],
   "source": [
    "def adapt(args):\n",
    "    in_dir, out_dir, orig_dir, trachea = args\n",
    "    hash = in_dir.split('/')[-1]\n",
    "    with open(f'{in_dir}/config.yml', \"r\") as filepath:\n",
    "        config = yaml.safe_load(filepath)\n",
    "    scan = config['Forest']['segment_root_path'][-13:-10]\n",
    "    \n",
    "    vol = nib.load(in_dir + '/volume.nii.gz').get_fdata().astype(np.float32)\n",
    "    vol = vol / 255\n",
    "\n",
    "    lung_mask = nib.load(in_dir + '/lung.nii.gz').get_fdata().astype(np.uint8)\n",
    "    lung_mask = lung_mask >= 1\n",
    "\n",
    "    wall_mask = nib.load(in_dir + '/airway_wall.nii.gz').get_fdata().astype(np.uint8)\n",
    "    wall_mask = wall_mask >= 1\n",
    "\n",
    "    airway_mask = nib.load(in_dir + '/airways.nii.gz').get_fdata().astype(np.uint8)\n",
    "    airway_mask = airway_mask >= 1\n",
    "\n",
    "    # add lung background\n",
    "    adapted_vol = lung_mask.astype(np.uint8) * 0.9\n",
    "    # add airway walls\n",
    "    adapted_vol[wall_mask] = vol[wall_mask] / 10\n",
    "    # add airways\n",
    "    adapted_vol[airway_mask] = vol[airway_mask]\n",
    "    adapted_vol = gaussian_filter(adapted_vol, sigma=0.8)\n",
    "\n",
    "    del vol, wall_mask\n",
    "    \n",
    "    adapted_vol, _ = add_noise(adapted_vol, mean=0, std=0.2)\n",
    "    \n",
    "    adapted_vol *= -950\n",
    "\n",
    "    orig_img = nib.load(f'{orig_dir}/images/ATM_{scan}_0000.nii.gz')\n",
    "    orig_vol = orig_img.get_fdata()\n",
    "    affine = orig_img.affine\n",
    "    del orig_img\n",
    "\n",
    "    # add original background\n",
    "    adapted_vol[lung_mask == False] = orig_vol[lung_mask == False]\n",
    "    adapted_vol = adapted_vol.astype(np.float32)\n",
    "\n",
    "    nifti = nib.Nifti1Image(adapted_vol, affine)\n",
    "    nib.save(nifti, f\"{out_dir}/images/{hash}_adapted_vol.nii.gz\")\n",
    "\n",
    "    if trachea:\n",
    "        orig_seg = nib.load(f'{orig_dir}/labels/ATM_{scan}_0000.nii.gz').get_fdata()\n",
    "        main_bronchi = np.where(np.bitwise_and(lung_mask == False, orig_seg >= 1), True, False)\n",
    "        adapted_airway = airway_mask.astype(np.uint8)\n",
    "        adapted_airway[main_bronchi] = 1\n",
    "        nifti = nib.Nifti1Image(adapted_airway, affine) #np.eye(4))\n",
    "    else:\n",
    "        nifti = nib.Nifti1Image(airway_mask.astype(np.uint8), affine)\n",
    "    nib.save(nifti, f\"{out_dir}/labels/{hash}_adapted_label.nii.gz\")"
   ]
  },
  {
   "attachments": {},
   "cell_type": "markdown",
   "metadata": {
    "collapsed": false
   },
   "source": [
    "## dataset_2"
   ]
  },
  {
   "cell_type": "code",
   "execution_count": null,
   "metadata": {
    "collapsed": false
   },
   "outputs": [],
   "source": [
    "in_dir = '/home/ahaas/airway-seg/vessel_graph_generation/datasets/dataset_1'\n",
    "out_dir = '/home/ahaas/airway-seg/vessel_graph_generation/datasets/dataset_2'\n",
    "    \n",
    "for folder in glob.glob('/home/ahaas/airway-seg/vessel_graph_generation/datasets/lobes/*'):\n",
    "    hash = folder.split('/')[-1]\n",
    "    shutil.copyfile(f'{in_dir}/images/{hash}_adapted_vol.nii.gz', f'{out_dir}/images/{hash}_adapted_vol.nii.gz')\n",
    "    affine = nib.load(f'{in_dir}/images/{hash}_adapted_vol.nii.gz').affine\n",
    "    \n",
    "    airway_mask = np.load(folder + '/airways.npy').astype(np.uint8)\n",
    "    airway_mask = airway_mask >= 1\n",
    "    \n",
    "    nifti = nib.Nifti1Image(airway_mask.astype(np.uint8), affine) #np.eye(4))\n",
    "    nib.save(nifti, f\"{out_dir}/labels/{hash}_adapted_label.nii.gz\")"
   ]
  },
  {
   "attachments": {},
   "cell_type": "markdown",
   "metadata": {},
   "source": [
    "## dataset_3"
   ]
  },
  {
   "cell_type": "code",
   "execution_count": null,
   "metadata": {},
   "outputs": [],
   "source": [
    "in_dirs = sorted(glob.glob('/home/ahaas/airway-seg/vessel_graph_generation/datasets/lobes/20230817*'))\n",
    "out_dir = '/home/ahaas/airway-seg/vessel_graph_generation/datasets/dataset_3'\n",
    "print(out_dir)\n",
    "orig_dir = '/home/shared/Data/ATM22/train/'\n",
    "os.makedirs(f'{out_dir}/images', exist_ok=True)\n",
    "os.makedirs(f'{out_dir}/labels', exist_ok=True)\n",
    "args = []\n",
    "for in_dir in in_dirs:\n",
    "    args.append((in_dir, out_dir, orig_dir, False))\n",
    "    #adapt(in_dir=in_dir, out_dir=out_dir, orig_dir=orig_dir, trachea=False)\n",
    "with Pool(15) as p, tqdm(total=len(args)) as pbar:\n",
    "    for _ in p.imap_unordered(adapt, args):\n",
    "        pbar.update()"
   ]
  }
 ],
 "metadata": {
  "kernelspec": {
   "display_name": "Python 3 (ipykernel)",
   "language": "python",
   "name": "python3"
  },
  "language_info": {
   "codemirror_mode": {
    "name": "ipython",
    "version": 3
   },
   "file_extension": ".py",
   "mimetype": "text/x-python",
   "name": "python",
   "nbconvert_exporter": "python",
   "pygments_lexer": "ipython3",
   "version": "3.10.12"
  }
 },
 "nbformat": 4,
 "nbformat_minor": 0
}
