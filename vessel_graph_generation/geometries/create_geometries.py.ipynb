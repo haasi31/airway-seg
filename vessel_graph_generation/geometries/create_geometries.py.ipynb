{
 "cells": [
  {
   "cell_type": "markdown",
   "source": [
    "## Create Geometry"
   ],
   "metadata": {
    "collapsed": false
   }
  },
  {
   "cell_type": "code",
   "execution_count": 1,
   "metadata": {
    "collapsed": true,
    "ExecuteTime": {
     "end_time": "2023-07-28T14:56:53.443441140Z",
     "start_time": "2023-07-28T14:56:50.831072207Z"
    }
   },
   "outputs": [],
   "source": [
    "import numpy as np\n",
    "import nibabel as nib\n",
    "import itk\n",
    "import json\n",
    "import yaml"
   ]
  },
  {
   "cell_type": "markdown",
   "source": [
    "### Lung mask"
   ],
   "metadata": {
    "collapsed": false
   }
  },
  {
   "cell_type": "code",
   "execution_count": 2,
   "outputs": [],
   "source": [
    "atm255 = nib.load('/home/anna/Desktop/ATM_data/ATM_255/ATM_255_0000_seg_lobes.nii.gz')\n",
    "atm255_data = atm255.get_fdata().astype(np.uint8)"
   ],
   "metadata": {
    "collapsed": false,
    "ExecuteTime": {
     "end_time": "2023-07-28T14:57:04.656573724Z",
     "start_time": "2023-07-28T14:57:02.744324655Z"
    }
   }
  },
  {
   "cell_type": "code",
   "execution_count": 3,
   "outputs": [],
   "source": [
    "for i in range(1, 6):\n",
    "    lobe = np.where(atm255_data == i, 1, 0).astype(np.uint8)\n",
    "    np.save(f'atm255_{i}.npy', lobe)\n",
    "    itk.imwrite(itk.GetImageFromArray(lobe.astype(np.uint8)), f'atm255_{i}.nrrd')"
   ],
   "metadata": {
    "collapsed": false,
    "ExecuteTime": {
     "end_time": "2023-07-28T14:57:49.708243239Z",
     "start_time": "2023-07-28T14:57:26.822973813Z"
    }
   }
  },
  {
   "cell_type": "markdown",
   "source": [
    "## Bronchi roots"
   ],
   "metadata": {
    "collapsed": false
   }
  },
  {
   "cell_type": "code",
   "execution_count": 2,
   "outputs": [],
   "source": [
    "lobes = {}\n",
    "# weird_spacing\n",
    "x_min = -196.8\n",
    "x_max = 202.4\n",
    "y_min = -59.4\n",
    "y_max = 339.8\n",
    "z_min = 445.9\n",
    "z_max = 843.9\n",
    "p_min = np.array((x_min, y_min, z_min))\n",
    "p_max = np.array((x_max, y_max, z_max))\n",
    "size = np.array((512, 512, 797))\n",
    "\n",
    "for lobe_idx in range(1, 6):\n",
    "    with open(f'/home/anna/Desktop/ATM_data/ATM_255/lobe_markers/lobe{lobe_idx}.mrk.json') as f:\n",
    "        lobe = json.load(f)\n",
    "    points = lobe['markups'][0]['controlPoints']\n",
    "    roots = []\n",
    "    for i in range(len(points)//2):\n",
    "        point1 = np.array(points[2*i]['position'])\n",
    "        point2 = np.array(points[2*i+1]['position'])\n",
    "        position = (point1-p_min) / (p_max-p_min) # normalizing to [0, 1]\n",
    "        position *= size\n",
    "        direction = (point2-point1) / np.linalg.norm(point2-point1)\n",
    "        roots.append({\n",
    "            'name': points[2*i]['label'][:3],\n",
    "            'position': position.tolist(),\n",
    "            'direction': direction.tolist()\n",
    "        })\n",
    "    lobes[f'lobe{lobe_idx}'] = roots\n",
    "roots_dir = {\n",
    "    'lobes': lobes\n",
    "}\n",
    "with open('/media/windows/Documents and Settings/Anna/Documents/UNI/23Masterthesis/OCTA-seg/vessel_graph_generation/geometries/roots.yml', 'w') as f:\n",
    "    yaml.dump(lobes, f, default_flow_style=False, sort_keys=False)"
   ],
   "metadata": {
    "collapsed": false,
    "ExecuteTime": {
     "end_time": "2023-07-28T15:41:30.640527025Z",
     "start_time": "2023-07-28T15:41:30.620308215Z"
    }
   }
  },
  {
   "cell_type": "code",
   "execution_count": null,
   "outputs": [],
   "source": [],
   "metadata": {
    "collapsed": false
   }
  }
 ],
 "metadata": {
  "kernelspec": {
   "display_name": "Python 3",
   "language": "python",
   "name": "python3"
  },
  "language_info": {
   "codemirror_mode": {
    "name": "ipython",
    "version": 2
   },
   "file_extension": ".py",
   "mimetype": "text/x-python",
   "name": "python",
   "nbconvert_exporter": "python",
   "pygments_lexer": "ipython2",
   "version": "2.7.6"
  }
 },
 "nbformat": 4,
 "nbformat_minor": 0
}
