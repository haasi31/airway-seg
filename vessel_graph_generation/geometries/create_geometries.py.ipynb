{
 "cells": [
  {
   "cell_type": "markdown",
   "source": [
    "## Create Geometry"
   ],
   "metadata": {
    "collapsed": false
   }
  },
  {
   "cell_type": "code",
   "execution_count": null,
   "metadata": {
    "collapsed": true
   },
   "outputs": [],
   "source": [
    "import numpy as np\n",
    "import nibabel as nib\n",
    "# import itk\n",
    "import json\n",
    "import yaml"
   ]
  },
  {
   "cell_type": "markdown",
   "source": [
    "## Lung mask"
   ],
   "metadata": {
    "collapsed": false
   }
  },
  {
   "cell_type": "code",
   "execution_count": null,
   "outputs": [],
   "source": [
    "atm = nib.load('/home/anna/Desktop/ATM_data/ATM_257/ATM_257_0000_seg_lobes.nii.gz')\n",
    "atm_data = atm.get_fdata().astype(np.uint8)"
   ],
   "metadata": {
    "collapsed": false
   }
  },
  {
   "cell_type": "code",
   "execution_count": null,
   "outputs": [],
   "source": [
    "for i in range(1, 6):\n",
    "    lobe = np.where(atm_data == i, 1, 0).astype(np.uint8)\n",
    "    np.save(f'atm257_{i}.npy', lobe)\n",
    "    # itk.imwrite(itk.GetImageFromArray(lobe.astype(np.uint8)), f'atm257_{i}.nrrd')"
   ],
   "metadata": {
    "collapsed": false
   }
  },
  {
   "cell_type": "markdown",
   "source": [
    "## Bronchi roots"
   ],
   "metadata": {
    "collapsed": false
   }
  },
  {
   "cell_type": "code",
   "execution_count": null,
   "outputs": [],
   "source": [
    "scan = 'ATM_257'\n",
    "out_file = f'/home/anna/Desktop/MA/ATM_data/{scan}/{scan}_roots.yml'\n",
    "\n",
    "lobes = {}\n",
    "# weird_spacing\n",
    "with open(f'/home/anna/Desktop/MA/ATM_data/{scan}/{scan}_spacing.yml') as f:\n",
    "    spacing = yaml.safe_load(f)\n",
    "\n",
    "p_min = np.array((spacing['x_min'], spacing['y_min'], spacing['z_min']))\n",
    "p_max = np.array((spacing['x_max'], spacing['y_max'], spacing['z_max']))\n",
    "size = np.array((spacing['x_out'], spacing['y_out'], spacing['z_out']))\n",
    "\n",
    "for lobe_idx in range(1, 6):\n",
    "    with open(f'/home/anna/Desktop/MA/ATM_data/{scan}/lobe_markers/{scan}_lobe{lobe_idx}.mrk.json') as f:\n",
    "        lobe = json.load(f)\n",
    "    points = lobe['markups'][0]['controlPoints']\n",
    "    roots = []\n",
    "    for i in range(len(points)//2):\n",
    "        point1 = np.array(points[2*i]['position'])\n",
    "        point2 = np.array(points[2*i+1]['position'])\n",
    "        position = (point1-p_min) / (p_max-p_min) # normalizing to [0, 1]\n",
    "        position *= size\n",
    "        direction = (point2-point1) / np.linalg.norm(point2-point1)\n",
    "        roots.append({\n",
    "            'name': points[2*i]['label'].split('-')[0],\n",
    "            'position': position.tolist(),\n",
    "            'direction': direction.tolist()\n",
    "        })\n",
    "    lobes[f'lobe{lobe_idx}'] = roots\n",
    "roots_dir = {\n",
    "    'lobes': lobes\n",
    "}\n",
    "with open(out_file, 'w') as f:\n",
    "    yaml.dump(lobes, f, default_flow_style=False, sort_keys=False)"
   ],
   "metadata": {
    "collapsed": false
   }
  },
  {
   "cell_type": "code",
   "execution_count": null,
   "outputs": [],
   "source": [],
   "metadata": {
    "collapsed": false
   }
  }
 ],
 "metadata": {
  "kernelspec": {
   "display_name": "Python 3",
   "language": "python",
   "name": "python3"
  },
  "language_info": {
   "codemirror_mode": {
    "name": "ipython",
    "version": 2
   },
   "file_extension": ".py",
   "mimetype": "text/x-python",
   "name": "python",
   "nbconvert_exporter": "python",
   "pygments_lexer": "ipython2",
   "version": "2.7.6"
  }
 },
 "nbformat": 4,
 "nbformat_minor": 0
}
