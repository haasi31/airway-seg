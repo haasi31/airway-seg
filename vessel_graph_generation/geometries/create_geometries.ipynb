{
 "cells": [
  {
   "attachments": {},
   "cell_type": "markdown",
   "metadata": {
    "collapsed": false
   },
   "source": [
    "## Create Geometry"
   ]
  },
  {
   "cell_type": "code",
   "execution_count": 1,
   "metadata": {
    "collapsed": true
   },
   "outputs": [],
   "source": [
    "import numpy as np\n",
    "import nibabel as nib\n",
    "# import itk\n",
    "import json\n",
    "import yaml\n",
    "import glob\n",
    "import os"
   ]
  },
  {
   "cell_type": "code",
   "execution_count": 2,
   "metadata": {},
   "outputs": [],
   "source": [
    "# scans = ['056', '057', '116', '175', '253', '255', '257']\n",
    "scans = ['010', '027', '221']"
   ]
  },
  {
   "attachments": {},
   "cell_type": "markdown",
   "metadata": {
    "collapsed": false
   },
   "source": [
    "## Lung mask"
   ]
  },
  {
   "cell_type": "code",
   "execution_count": 5,
   "metadata": {
    "collapsed": false
   },
   "outputs": [],
   "source": [
    "out_dir = '/home/ahaas/data/0_input_simulation/geometries/'\n",
    "\n",
    "def prepare_lung_mask(scan):\n",
    "    atm = nib.load(f'/home/shared/Data/ATM22/train/masks/ATM_{scan}_0000_lobes_mask.nii.gz')\n",
    "    atm_data = atm.get_fdata().astype(np.uint8)\n",
    "    \n",
    "    os.makedirs(f'{out_dir}/ATM_{scan}', exist_ok=True)\n",
    "    for i in range(1, 6):\n",
    "        lobe = np.where(atm_data == i, 1, 0).astype(np.uint8)\n",
    "        np.save(f'{out_dir}/ATM_{scan}/lobe_{i}_simulation_space.npy', lobe)"
   ]
  },
  {
   "cell_type": "code",
   "execution_count": 6,
   "metadata": {},
   "outputs": [],
   "source": [
    "for scan in scans:\n",
    "    prepare_lung_mask(scan)"
   ]
  },
  {
   "attachments": {},
   "cell_type": "markdown",
   "metadata": {
    "collapsed": false
   },
   "source": [
    "## Roots for airways and vessels"
   ]
  },
  {
   "cell_type": "code",
   "execution_count": null,
   "metadata": {
    "collapsed": false
   },
   "outputs": [],
   "source": [
    "base_dir = '/home/ahaas/data/0_input_simulation'\n",
    "\n",
    "def markers2yml(scan, option='airways'):\n",
    "    os.makedirs(f'{base_dir}/geometries/ATM_{scan}/', exist_ok=True)\n",
    "    # out_file = f'{base_dir}/geometries/ATM_{scan}/ATM_{scan}_{option}_roots.yml'\n",
    "\n",
    "    lobes = {}\n",
    "    # weird_spacing\n",
    "    with open(f'{base_dir}/ATM_preparation/roots/ATM_{scan}/ATM_{scan}_spacing.yml') as f:\n",
    "        spacing = yaml.safe_load(f)\n",
    "\n",
    "    p_min = np.array((spacing['x_min'], spacing['y_min'], spacing['z_min']))\n",
    "    p_max = np.array((spacing['x_max'], spacing['y_max'], spacing['z_max']))\n",
    "    size = np.array((spacing['x_out'], spacing['y_out'], spacing['z_out']))\n",
    "\n",
    "    for lobe_idx in range(1, 6):\n",
    "        roots = []\n",
    "        marker_files = glob.glob(f'{base_dir}/ATM_preparation/roots/ATM_{scan}/{option}_roots/{lobe_idx}/*.mrk.json')\n",
    "        for i, marker_file in enumerate(marker_files):\n",
    "            with open(marker_file) as f:\n",
    "                marker = json.load(f)\n",
    "            points = marker['markups'][0]['controlPoints']\n",
    "            point1 = np.array(points[0]['position'])\n",
    "            point2 = np.array(points[1]['position'])\n",
    "            point1 = (point1-p_min) / (p_max-p_min) * size # normalizing to [0, 1] and scaling to output size\n",
    "            point2 = (point2-p_min) / (p_max-p_min) * size \n",
    "            direction = (point2-point1) / np.linalg.norm(point2-point1)\n",
    "            roots.append({\n",
    "                'name': f'root_{i}',\n",
    "                'position': point1.tolist(),\n",
    "                'direction': direction.tolist()\n",
    "            })\n",
    "\n",
    "        lobes[f'lobe{lobe_idx}'] = roots\n",
    "        with open(f'{base_dir}/geometries/ATM_{scan}/lobe_{lobe_idx}_{option}s_roots.yml', 'w') as f:\n",
    "            yaml.dump(roots, f, default_flow_style=False, sort_keys=False)\n",
    "    # with open(out_file, 'w') as f:\n",
    "    #     yaml.dump(lobes, f, default_flow_style=False, sort_keys=False)"
   ]
  },
  {
   "cell_type": "code",
   "execution_count": null,
   "metadata": {},
   "outputs": [],
   "source": [
    "for scan in scans:\n",
    "    markers2yml(scan, 'airway')\n",
    "    markers2yml(scan, 'vessel')"
   ]
  },
  {
   "cell_type": "code",
   "execution_count": null,
   "metadata": {},
   "outputs": [],
   "source": []
  }
 ],
 "metadata": {
  "kernelspec": {
   "display_name": "Python 3",
   "language": "python",
   "name": "python3"
  },
  "language_info": {
   "codemirror_mode": {
    "name": "ipython",
    "version": 3
   },
   "file_extension": ".py",
   "mimetype": "text/x-python",
   "name": "python",
   "nbconvert_exporter": "python",
   "pygments_lexer": "ipython3",
   "version": "3.10.12"
  }
 },
 "nbformat": 4,
 "nbformat_minor": 0
}
